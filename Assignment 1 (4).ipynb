{
 "cells": [
  {
   "cell_type": "code",
   "execution_count": 1,
   "id": "f35bc845-e802-4e89-a499-390522783ad0",
   "metadata": {},
   "outputs": [
    {
     "name": "stdin",
     "output_type": "stream",
     "text": [
      "Enter the first number:  10\n",
      "Enter the second number:  3\n"
     ]
    },
    {
     "name": "stdout",
     "output_type": "stream",
     "text": [
      "adding:  13\n",
      "substraction:  7\n",
      "multiplication:  30\n",
      "division:  3.3333333333333335\n",
      "modulus:  1\n",
      "exponential:  100\n",
      "floor: 3\n"
     ]
    }
   ],
   "source": [
    "a=int(input('Enter the first number: '))\n",
    "b=int(input('Enter the second number: '))\n",
    "adding=a+b\n",
    "substraction=a-b\n",
    "multiplication=a*b\n",
    "division=a/b\n",
    "modulus=a%b\n",
    "exponential=a**2\n",
    "floor=a//b\n",
    "print('adding: ', adding)\n",
    "print('substraction: ', substraction)\n",
    "print('multiplication: ', multiplication)\n",
    "print('division: ', division)\n",
    "print('modulus: ', modulus)\n",
    "print('exponential: ', exponential)\n",
    "print('floor:', floor)\n"
   ]
  },
  {
   "cell_type": "code",
   "execution_count": 1,
   "id": "4d4762ed-175e-4966-af44-5c0cd2adad87",
   "metadata": {},
   "outputs": [
    {
     "name": "stdin",
     "output_type": "stream",
     "text": [
      "Enter first number:  56\n",
      "Enter second number:  55\n"
     ]
    },
    {
     "name": "stdout",
     "output_type": "stream",
     "text": [
      "first number is greater than second\n"
     ]
    }
   ],
   "source": [
    "a=int(input('Enter first number: '))\n",
    "b=int(input('Enter second number: '))\n",
    "if a>b:\n",
    "    print('first number is greater than second')\n",
    "elif a==b:\n",
    "    print('first number is equal to second number')\n",
    "elif a<=b:\n",
    "    print('a is smaller than or equal to b')"
   ]
  },
  {
   "cell_type": "code",
   "execution_count": 1,
   "id": "862850e0-fcdf-4f71-a529-1cfe08667e10",
   "metadata": {},
   "outputs": [
    {
     "name": "stdin",
     "output_type": "stream",
     "text": [
      "enter a boolean value 1:- True\n",
      "enter a boolean value 2:- False\n",
      "enter a boolean value 3:- True\n"
     ]
    },
    {
     "name": "stdout",
     "output_type": "stream",
     "text": [
      "False\n",
      "True\n",
      "False\n",
      "True\n",
      "False\n"
     ]
    }
   ],
   "source": [
    "a=input(\"enter a boolean value 1:-\").strip().lower()==\"true\"\n",
    "b=input(\"enter a boolean value 2:-\").strip().lower()==\"true\"\n",
    "c=input(\"enter a boolean value 3:-\").strip().lower()==\"true\"\n",
    "print(a and b and c)#\n",
    "print(a or b or c)\n",
    "print(not a)\n",
    "print(not b)\n",
    "print(not c)"
   ]
  },
  {
   "cell_type": "code",
   "execution_count": 9,
   "id": "88c8b39b-6aa1-4cae-b1d1-b4960d8735ce",
   "metadata": {},
   "outputs": [
    {
     "name": "stdin",
     "output_type": "stream",
     "text": [
      "Enter a word:  Rizwan\n"
     ]
    },
    {
     "name": "stdout",
     "output_type": "stream",
     "text": [
      "6\n",
      "('R', 'n')\n",
      "nawziR\n",
      "RIZWAN\n",
      "rizwan\n"
     ]
    }
   ],
   "source": [
    "a=input('Enter a word: ')\n",
    "b=len(a)\n",
    "c=a[0],a[-1]\n",
    "d=a[::-1]\n",
    "e=a.upper()\n",
    "f=a.lower()\n",
    "print(b)\n",
    "print(c)\n",
    "print(d)\n",
    "print(e)\n",
    "print(f)"
   ]
  },
  {
   "cell_type": "code",
   "execution_count": 1,
   "id": "1f9b7968-1171-4e28-b6b8-5af89962a785",
   "metadata": {},
   "outputs": [
    {
     "name": "stdin",
     "output_type": "stream",
     "text": [
      "Enter a name:  Rizwan\n",
      "Enter the age:  19\n"
     ]
    },
    {
     "name": "stdout",
     "output_type": "stream",
     "text": [
      "Hello Rizwan you are 19 years old\n"
     ]
    }
   ],
   "source": [
    "a=input('Enter a name: ')\n",
    "b=int(input('Enter the age: '))\n",
    "print('Hello',a,'you are',b,'years old')"
   ]
  },
  {
   "cell_type": "code",
   "execution_count": 3,
   "id": "2ada7d04-cbbd-4b17-8aaf-f848d14b0f11",
   "metadata": {},
   "outputs": [
    {
     "name": "stdin",
     "output_type": "stream",
     "text": [
      "Enter a sentence: Rizwan is a good boy\n",
      "Enter the word: good\n"
     ]
    },
    {
     "name": "stdout",
     "output_type": "stream",
     "text": [
      "The word good found at 12 index position\n"
     ]
    }
   ],
   "source": [
    "a=input(\"Enter a sentence:\")\n",
    "b=input(\"Enter the word:\")\n",
    "c=a.find(b)\n",
    "if c !=-1: \n",
    "    print(f\"The word {b} found at {c} index position\")\n",
    "else:\n",
    "    print(f\"The {b} word not found\")"
   ]
  },
  {
   "cell_type": "code",
   "execution_count": 3,
   "id": "ee845e00-af54-45ba-955a-df12a4745a65",
   "metadata": {},
   "outputs": [
    {
     "name": "stdin",
     "output_type": "stream",
     "text": [
      "enter a number:  45\n",
      "enter a number:  46\n",
      "enter a number:  48\n",
      "enter a number:  49\n",
      "enter a number:  50\n"
     ]
    },
    {
     "name": "stdout",
     "output_type": "stream",
     "text": [
      "[45, 46, 48, 49, 50]\n",
      "238\n",
      "50\n",
      "45\n"
     ]
    }
   ],
   "source": [
    "a=[]\n",
    "for i in range(1,6):\n",
    "    b=int(input('enter a number: '))\n",
    "    a.append(b)\n",
    "c=sum(a)\n",
    "d=max(a)\n",
    "e=min(a)\n",
    "print(a)\n",
    "print(c)\n",
    "print(d)\n",
    "print(e)"
   ]
  },
  {
   "cell_type": "code",
   "execution_count": 1,
   "id": "31d94ce8-2e1a-4462-9124-f7b05ba9e86d",
   "metadata": {},
   "outputs": [
    {
     "name": "stdout",
     "output_type": "stream",
     "text": [
      "['apple', 'mango', 'grape', 'orange', 'watermelon']\n",
      "['apple', 'mango', 'grape', 'orange', 'watermelon', 'pineapple']\n",
      "['apple', 'mango', 'orange', 'watermelon', 'pineapple']\n"
     ]
    }
   ],
   "source": [
    "fruits=['apple' ,'mango', 'grape', 'orange', 'watermelon'] \n",
    "print(fruits) \n",
    "fruits.append('pineapple') \n",
    "print(fruits) \n",
    "fruits.remove('grape') \n",
    "print(fruits) "
   ]
  },
  {
   "cell_type": "code",
   "execution_count": 3,
   "id": "a7ceb9f9-9632-4f5a-97d5-086d611970b6",
   "metadata": {},
   "outputs": [
    {
     "name": "stdin",
     "output_type": "stream",
     "text": [
      "Enter the number 1:  23\n",
      "Enter the number 2:  24\n",
      "Enter the number 3:  25\n",
      "Enter the number 4:  26\n",
      "Enter the number 5:  28\n"
     ]
    },
    {
     "name": "stdout",
     "output_type": "stream",
     "text": [
      "Ascending Order of the list:  [23, 24, 25, 26, 28]\n",
      "Descending Order of the list:  [28, 26, 25, 24, 23]\n"
     ]
    }
   ],
   "source": [
    "A = int(input(\"Enter the number 1: \")) \n",
    "B = int(input(\"Enter the number 2: \")) \n",
    "C = int(input(\"Enter the number 3: \")) \n",
    "D = int(input(\"Enter the number 4: \")) \n",
    "E = int(input(\"Enter the number 5: \")) \n",
    "f = [A, B, C, D, E]\n",
    "f.sort() \n",
    "print(\"Ascending Order of the list: \", f) \n",
    "f.sort(reverse=True) \n",
    "print(\"Descending Order of the list: \", f) "
   ]
  },
  {
   "cell_type": "code",
   "execution_count": 11,
   "id": "f9a43029-ab0d-4baa-8b84-0d7c5aecb380",
   "metadata": {},
   "outputs": [
    {
     "name": "stdout",
     "output_type": "stream",
     "text": [
      "[1, 2, 3, 4, 5]\n",
      "[6, 7, 8, 9, 10]\n",
      "[2, 3, 4, 5, 6, 7]\n"
     ]
    }
   ],
   "source": [
    "Numbers=[1,2,3,4,5,6,7,8,9,10] \n",
    "print(Numbers[:5]) \n",
    "print(Numbers[-5:]) \n",
    "print(Numbers[1:7]) "
   ]
  }
 ],
 "metadata": {
  "kernelspec": {
   "display_name": "Python 3 (ipykernel)",
   "language": "python",
   "name": "python3"
  },
  "language_info": {
   "codemirror_mode": {
    "name": "ipython",
    "version": 3
   },
   "file_extension": ".py",
   "mimetype": "text/x-python",
   "name": "python",
   "nbconvert_exporter": "python",
   "pygments_lexer": "ipython3",
   "version": "3.12.4"
  }
 },
 "nbformat": 4,
 "nbformat_minor": 5
}
